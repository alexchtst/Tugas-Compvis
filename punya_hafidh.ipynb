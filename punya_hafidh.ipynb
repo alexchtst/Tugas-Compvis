{
 "cells": [
  {
   "cell_type": "code",
   "execution_count": null,
   "id": "c3ed40ed",
   "metadata": {},
   "outputs": [],
   "source": [
    "import pandas as pd\n",
    "import cv2\n",
    "import torch\n",
    "import torchvision.models as models\n",
    "import torchvision.transforms as transforms\n",
    "from torch.utils.data import TensorDataset, DataLoader, Dataset\n",
    "import numpy as np\n",
    "from sklearn.svm import SVC\n",
    "from sklearn.metrics import accuracy_score\n",
    "from PIL import Image\n",
    "import os\n",
    "import pandas as pd\n",
    "from torchvision import transforms\n",
    "import torch.nn as nn"
   ]
  },
  {
   "cell_type": "code",
   "execution_count": null,
   "id": "7b2bb52a",
   "metadata": {},
   "outputs": [],
   "source": [
    "anot_path = \"./data/attention.csv\"\n",
    "images_path = \"./data/datasets/\"\n",
    "\n",
    "gray_images_path = \"./data/grayimage\""
   ]
  },
  {
   "cell_type": "code",
   "execution_count": null,
   "id": "0551dfab",
   "metadata": {},
   "outputs": [],
   "source": [
    "df = pd.read_csv(anot_path)\n",
    "df.columns = ['filename', 'score']\n",
    "df['score'].value_counts()"
   ]
  },
  {
   "cell_type": "code",
   "execution_count": null,
   "id": "0a82a782",
   "metadata": {},
   "outputs": [],
   "source": [
    "class CustomImageDataset(Dataset):\n",
    "    def __init__(self, csv_file, img_dir, transform=None):\n",
    "        self.labels_df = pd.read_csv(csv_file)\n",
    "        self.img_dir = img_dir\n",
    "        self.transform = transform\n",
    "\n",
    "    def __len__(self):\n",
    "        return len(self.labels_df)\n",
    "    \n",
    "    def __getitem__(self, idx):\n",
    "        img_path = os.path.join(self.img_dir, self.labels_df.iloc[idx, 0])\n",
    "        image = Image.open(img_path).convert('RGB')\n",
    "        label = int(self.labels_df.iloc[idx, 1])\n",
    "\n",
    "        if self.transform:\n",
    "            image = self.transform(image)\n",
    "\n",
    "        return image, label"
   ]
  },
  {
   "cell_type": "code",
   "execution_count": null,
   "id": "1e23208f",
   "metadata": {},
   "outputs": [],
   "source": [
    "transform = transforms.Compose([\n",
    "    transforms.Resize((256,256)),\n",
    "    transforms.ToTensor(),\n",
    "    transforms.Normalize(mean=[0.485, 0.456, 0.406],\n",
    "                     std=[0.229, 0.224, 0.225])\n",
    "])"
   ]
  },
  {
   "cell_type": "code",
   "execution_count": null,
   "id": "d4b7ff5c",
   "metadata": {},
   "outputs": [],
   "source": [
    "dataset = CustomImageDataset(csv_file=anot_path, img_dir=images_path, transform=transform)\n",
    "train_loader = DataLoader(dataset, batch_size=8, shuffle=False)"
   ]
  },
  {
   "cell_type": "code",
   "execution_count": null,
   "id": "1bbbc87f",
   "metadata": {},
   "outputs": [],
   "source": [
    "model = models.efficientnet_b7(pretrained=True)\n",
    "model.classifier = torch.nn.Identity()\n",
    "model = model.to('cuda')\n",
    "model.eval()"
   ]
  },
  {
   "cell_type": "code",
   "execution_count": null,
   "id": "7503c546",
   "metadata": {},
   "outputs": [],
   "source": [
    "features = []\n",
    "labels = []\n",
    "\n",
    "with torch.no_grad():\n",
    "    for images, label in train_loader:\n",
    "        images = images.to('cuda')\n",
    "        outputs = model(images)\n",
    "        features.append(outputs.cpu().numpy())\n",
    "        labels.extend(label.cpu().numpy())\n",
    "\n",
    "X_feat = np.concatenate(features, axis=0)\n",
    "y_feat = np.array(labels)\n",
    "\n",
    "print(\"Shape of X_feat: \", X_feat.shape)\n",
    "print(\"Shape of y_feat: \", y_feat.shape)"
   ]
  },
  {
   "cell_type": "code",
   "execution_count": null,
   "id": "f995bdaa",
   "metadata": {},
   "outputs": [],
   "source": [
    "from sklearn.model_selection import train_test_split\n",
    "\n",
    "X_train, X_test, y_train, y_test = train_test_split(\n",
    "    X_feat, y_feat, test_size=0.2, random_state=42, stratify=y_feat\n",
    ")"
   ]
  },
  {
   "cell_type": "code",
   "execution_count": null,
   "id": "2afc4283",
   "metadata": {},
   "outputs": [],
   "source": [
    "from sklearn.svm import SVC\n",
    "from sklearn.metrics import accuracy_score\n",
    "from sklearn.model_selection import GridSearchCV\n",
    "\n",
    "params = {\n",
    "    'C' : [0.1, 1, 10],\n",
    "    'gamma' : ['scale', 0.01, 0.001],\n",
    "    'kernel' : ['rbf', 'linear']\n",
    "}\n",
    "\n",
    "clf = GridSearchCV(SVC(), params, cv=5)\n",
    "clf.fit(X_train, y_train)\n",
    "train_acc = accuracy_score(y_train, y_train)\n",
    "print(f\"Train Acc : {train_acc*100:.2f}%\")"
   ]
  },
  {
   "cell_type": "code",
   "execution_count": null,
   "id": "d426f0e9",
   "metadata": {},
   "outputs": [],
   "source": [
    "import numpy as np\n",
    "import matplotlib.pyplot as plt\n",
    "import seaborn as sns\n",
    "from sklearn.metrics import accuracy_score, classification_report, confusion_matrix\n",
    "\n",
    "def evaluate_model(y_true, y_pred, class_names=None):\n",
    "    \"\"\"\n",
    "    Evaluasi dan visualisasi hasil klasifikasi.\n",
    "\n",
    "    Args:\n",
    "        y_true (array): Label sebenarnya.\n",
    "        y_pred (array): Label prediksi.\n",
    "        class_names (list): Daftar nama kelas.\n",
    "    \"\"\"\n",
    "    acc = accuracy_score(y_true, y_pred)\n",
    "    print(f\"🔍 Accuracy: {acc * 100:.2f}%\\n\")\n",
    "    \n",
    "    print(\"📊 Classification Report:\")\n",
    "    print(classification_report(y_true, y_pred, target_names=class_names))\n",
    "    \n",
    "    cm = confusion_matrix(y_true, y_pred)\n",
    "    \n",
    "    plt.figure(figsize=(8, 6))\n",
    "    sns.heatmap(cm, annot=True, fmt='d', cmap='Blues',\n",
    "                xticklabels=class_names,\n",
    "                yticklabels=class_names)\n",
    "    plt.xlabel('Predicted Label')\n",
    "    plt.ylabel('True Label')\n",
    "    plt.title('🧩 Confusion Matrix')\n",
    "    plt.show()\n"
   ]
  },
  {
   "cell_type": "code",
   "execution_count": null,
   "id": "52d6349f",
   "metadata": {},
   "outputs": [],
   "source": [
    "y_pred = clf.predict(X_test)\n",
    "acc = accuracy_score(y_test, y_pred)\n",
    "print(f\"Test Accuracy : {acc * 100:.2f}%\")\n",
    "\n",
    "class_names = ['class_0', 'class_1', 'class_2', 'class_3', 'class_4']\n",
    "\n",
    "evaluate_model(y_test, y_pred, class_names=class_names)"
   ]
  },
  {
   "cell_type": "code",
   "execution_count": null,
   "id": "b4136d5a",
   "metadata": {},
   "outputs": [],
   "source": []
  }
 ],
 "metadata": {
  "kernelspec": {
   "display_name": "Python 3",
   "language": "python",
   "name": "python3"
  },
  "language_info": {
   "codemirror_mode": {
    "name": "ipython",
    "version": 3
   },
   "file_extension": ".py",
   "mimetype": "text/x-python",
   "name": "python",
   "nbconvert_exporter": "python",
   "pygments_lexer": "ipython3",
   "version": "3.11.8"
  }
 },
 "nbformat": 4,
 "nbformat_minor": 5
}
