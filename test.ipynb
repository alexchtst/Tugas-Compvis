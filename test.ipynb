{
 "cells": [
  {
   "cell_type": "markdown",
   "id": "d9b0a0aa",
   "metadata": {},
   "source": [
    "## GRAY IMAGES"
   ]
  },
  {
   "cell_type": "code",
   "execution_count": null,
   "id": "65654e9e",
   "metadata": {},
   "outputs": [],
   "source": [
    "from PIL import Image\n",
    "import pandas as pd\n",
    "import os"
   ]
  },
  {
   "cell_type": "code",
   "execution_count": null,
   "id": "a1aefeb9",
   "metadata": {},
   "outputs": [],
   "source": [
    "anot_path = \"./data/attention.csv\"\n",
    "images_path = \"./data/datasets/\"\n",
    "\n",
    "gray_images_path = \"./data/grayimage\""
   ]
  },
  {
   "cell_type": "code",
   "execution_count": null,
   "id": "54e22543",
   "metadata": {},
   "outputs": [],
   "source": [
    "df = pd.read_csv(anot_path)\n",
    "df.columns = ['filename', 'score']\n",
    "df['score'].value_counts()"
   ]
  },
  {
   "cell_type": "code",
   "execution_count": null,
   "id": "996b8b2e",
   "metadata": {},
   "outputs": [],
   "source": [
    "save_path = \"data/gray_data.csv\"\n",
    "\n",
    "data = {\n",
    "    'width': [],\n",
    "    'height': [],\n",
    "    'file_path': [],\n",
    "    'score': []\n",
    "}\n",
    "\n",
    "if not os.path.exists(gray_images_path):\n",
    "    os.makedirs(gray_images_path)\n",
    "\n",
    "for item, score in zip(df['filename'].tolist(), df['score'].tolist()):\n",
    "    file_path = os.path.join(images_path, item)\n",
    "    gray_path = os.path.join(gray_images_path, item)\n",
    "\n",
    "    img = Image.open(file_path).convert(\"L\")\n",
    "    \n",
    "    img.save(gray_path)\n",
    "    \n",
    "    data['width'].append(img.size[0])\n",
    "    data['height'].append(img.size[1])\n",
    "    data['file_path'].append(gray_path)\n",
    "    data['score'].append(score)"
   ]
  },
  {
   "cell_type": "code",
   "execution_count": null,
   "id": "7bef4ead",
   "metadata": {},
   "outputs": [],
   "source": [
    "pd.DataFrame(data).to_csv(save_path, index=False)"
   ]
  },
  {
   "cell_type": "markdown",
   "id": "220ebb89",
   "metadata": {},
   "source": [
    "## BLUR CANNY CONTOUR "
   ]
  },
  {
   "cell_type": "code",
   "execution_count": null,
   "id": "b9a18598",
   "metadata": {},
   "outputs": [],
   "source": [
    "import pandas as pd\n",
    "from PIL import Image\n",
    "import random\n",
    "import numpy as np\n",
    "import cv2 as cv\n",
    "import matplotlib.pyplot as plt\n",
    "\n",
    "# anomali data 69, 5, 36\n",
    "# rd_idx = 5\n",
    "\n",
    "file_path = \"data/gray_data.csv\"\n",
    "df = pd.read_csv(file_path)\n",
    "\n",
    "def Proccess(df = df, idx = None, biar_rapih = False):\n",
    "    if idx == None:\n",
    "        idx = random.randint(0, len(df['file_path'].tolist()))\n",
    "    \n",
    "    sample_image_name = df['file_path'].tolist()[idx]\n",
    "    score = df['score'].tolist()[idx]\n",
    "\n",
    "    img_np = np.array(Image.open(sample_image_name))\n",
    "    \n",
    "    if not biar_rapih:\n",
    "        # gausah didebug ini [biar apa biarin | pusing gw njir ngeliatnya]\n",
    "        print(f\"image idx: {idx} | score: {score} | filename: {sample_image_name}\")\n",
    "        print(f\"image size: {img_np.shape}\")\n",
    "\n",
    "    blank = np.zeros(shape=img_np.shape, dtype='uint8')\n",
    "\n",
    "    gaussBlur = cv.GaussianBlur(img_np, (175, 175), 0.3)\n",
    "    canny = cv.Canny(gaussBlur, 100, 100)\n",
    "\n",
    "    _, tresh = cv.threshold(img_np, 125, 255, cv.THRESH_BINARY)\n",
    "    _, blurtresh = cv.threshold(gaussBlur, 125, 255, cv.THRESH_BINARY)\n",
    "\n",
    "    contours, _ = cv.findContours(canny, cv.RETR_LIST, cv.CHAIN_APPROX_SIMPLE)\n",
    "    cv.drawContours(blank, contours, -1, 255, 1)\n",
    "    \n",
    "    images = [img_np, gaussBlur, canny, tresh, blank]\n",
    "    titles = ['Gray', 'Gaussian Blur', 'Canny', 'Threshold', 'Contours Drawn']\n",
    "    \n",
    "    return images, titles\n",
    "\n",
    "def ShowImage(images, titles):\n",
    "    \n",
    "    plt.figure(figsize=(15, 8))\n",
    "\n",
    "    for i in range(len(images)):\n",
    "        plt.subplot(2, 3, i + 1)  # 2 baris, 3 kolom\n",
    "        if len(images[i].shape) == 2:  # grayscale\n",
    "            plt.imshow(images[i], cmap='gray')\n",
    "        else:  # RGB image\n",
    "            plt.imshow(cv.cvtColor(images[i], cv.COLOR_BGR2RGB))\n",
    "        plt.title(titles[i])\n",
    "        plt.axis('off')\n",
    "\n",
    "    plt.tight_layout()\n",
    "    plt.show()"
   ]
  },
  {
   "cell_type": "code",
   "execution_count": null,
   "id": "f5b76b11",
   "metadata": {},
   "outputs": [],
   "source": [
    "max_w = max(df['width'].tolist())\n",
    "min_w = min(df['width'].tolist())\n",
    "\n",
    "max_h = max(df['height'].tolist())\n",
    "min_h = min(df['height'].tolist())\n",
    "\n",
    "print(f\"max-width: {max_w} | min-width: {min_w} | max-height: {max_h} | min-height: {min_h}\")"
   ]
  },
  {
   "cell_type": "code",
   "execution_count": null,
   "id": "4942ddb9",
   "metadata": {},
   "outputs": [],
   "source": [
    "for i in range(5):\n",
    "    images, titles = Proccess()\n",
    "    ShowImage(images, titles)"
   ]
  },
  {
   "cell_type": "markdown",
   "id": "1f4a8ebb",
   "metadata": {},
   "source": [
    "## LOAD DATA INTO NDARRAY"
   ]
  },
  {
   "cell_type": "code",
   "execution_count": null,
   "id": "6359323b",
   "metadata": {},
   "outputs": [],
   "source": [
    "import pandas as pd\n",
    "import numpy as np\n",
    "import cv2 as cv\n",
    "\n",
    "file_path = \"data/gray_data.csv\"\n",
    "df = pd.read_csv(file_path)\n",
    "\n",
    "df.describe()\n",
    "\n",
    "# mean width = 624\n",
    "# mean height = 208\n",
    "\n",
    "# biar 2^ pake width = 512 (2**9)\n",
    "# biar 2^ pake height = 256 (2**8)"
   ]
  },
  {
   "cell_type": "code",
   "execution_count": null,
   "id": "b7470714",
   "metadata": {},
   "outputs": [],
   "source": [
    "def resize(np_img, w = 512, h = 256):\n",
    "    return cv.resize(np_img, dsize=(w, h), interpolation=cv.INTER_LINEAR)"
   ]
  },
  {
   "cell_type": "code",
   "execution_count": null,
   "id": "4826ad0b",
   "metadata": {},
   "outputs": [],
   "source": [
    "gray_np = [] # gray images\n",
    "gaussBlur_np = []\n",
    "canny_np = []\n",
    "tresh_np = []\n",
    "contour_np = []\n",
    "\n",
    "# load to array\n",
    "for i in range(len(df['file_path'].tolist())):\n",
    "    '''\n",
    "    images = [\n",
    "        img_np, gaussBlur, canny, tresh, blank]\n",
    "        [gray, gaussblur(gray), canny(gray), tresh(gray), contour(grey)\n",
    "    ]\n",
    "    '''\n",
    "    \n",
    "    images, _ = Proccess(idx=i, biar_rapih=True)\n",
    "    # print(type(resize(images[0])))\n",
    "    # print(resize(images[0]))\n",
    "    # print(resize(images[0]).shape)\n",
    "    # break\n",
    "    gray_np.append(resize(images[0]))\n",
    "    gaussBlur_np.append(resize(images[1]))\n",
    "    canny_np.append(resize(images[2]))\n",
    "    tresh_np.append(resize(images[3]))\n",
    "    contour_np.append(resize(images[4]))\n",
    "\n",
    "# transform into \n",
    "gray_np = np.array(gray_np)\n",
    "gaussBlur_np = np.array(gaussBlur_np)\n",
    "canny_np = np.array(canny_np)\n",
    "tresh_np = np.array(tresh_np)\n",
    "contour_np = np.array(contour_np)"
   ]
  },
  {
   "cell_type": "code",
   "execution_count": null,
   "id": "cbb6a057",
   "metadata": {},
   "outputs": [],
   "source": [
    "print(gray_np.shape, gaussBlur_np.shape, canny_np.shape, tresh_np.shape, contour_np.shape)\n",
    "\n",
    "# pake dah mau pake yang mana"
   ]
  },
  {
   "cell_type": "markdown",
   "id": "03fd399f",
   "metadata": {},
   "source": [
    "## TRY ML MODEL [alex]"
   ]
  },
  {
   "cell_type": "code",
   "execution_count": null,
   "id": "50d9ff64",
   "metadata": {},
   "outputs": [],
   "source": [
    "from sklearn.model_selection import RandomizedSearchCV, train_test_split\n",
    "from sklearn.ensemble import RandomForestClassifier\n",
    "from sklearn.metrics import classification_report"
   ]
  },
  {
   "cell_type": "code",
   "execution_count": null,
   "id": "0a8a70c0",
   "metadata": {},
   "outputs": [],
   "source": [
    "X = tresh_np.reshape(tresh_np.shape[0], -1)\n",
    "X = X / 255\n",
    "y = np.array(df['score']).reshape(-1, 1)\n",
    "\n",
    "X.shape, y.shape"
   ]
  },
  {
   "cell_type": "code",
   "execution_count": null,
   "id": "d0905537",
   "metadata": {},
   "outputs": [],
   "source": [
    "X_train, X_test, y_train, y_test = train_test_split(X, y, test_size=0.2, random_state=42)"
   ]
  },
  {
   "cell_type": "code",
   "execution_count": null,
   "id": "6c0a4ce3",
   "metadata": {},
   "outputs": [],
   "source": [
    "type(X_train[0]), X_train[0]"
   ]
  },
  {
   "cell_type": "code",
   "execution_count": null,
   "id": "a5d71ccc",
   "metadata": {},
   "outputs": [],
   "source": [
    "type(y_train[0]), y_train[0]"
   ]
  },
  {
   "cell_type": "code",
   "execution_count": null,
   "id": "6cbd0d71",
   "metadata": {},
   "outputs": [],
   "source": [
    "param_dist = {\n",
    "    'n_estimators': [50, 100, 200],\n",
    "    'max_depth': [None, 8, 16, 64],\n",
    "    'min_samples_split': [5, 10, 15],\n",
    "    'min_samples_leaf': [5, 15, 20],\n",
    "    'bootstrap': [True, False]\n",
    "}\n",
    "\n",
    "random_forest = RandomForestClassifier(random_state=42)\n",
    "random_forest"
   ]
  },
  {
   "cell_type": "code",
   "execution_count": null,
   "id": "a7903817",
   "metadata": {},
   "outputs": [],
   "source": [
    "random_search = RandomizedSearchCV(\n",
    "    estimator=random_forest,\n",
    "    param_distributions=param_dist,\n",
    "    n_iter=20,\n",
    "    cv=5,\n",
    "    verbose=2,\n",
    "    random_state=42,\n",
    "    n_jobs=-1\n",
    ")\n",
    "\n",
    "random_search.fit(X_train, y_train)"
   ]
  },
  {
   "cell_type": "code",
   "execution_count": null,
   "id": "bb966788",
   "metadata": {},
   "outputs": [],
   "source": [
    "best_params = random_search.best_params_\n",
    "best_estimators = random_search.best_estimator_\n",
    "best_score = random_search.best_score_\n",
    "\n",
    "print(f\"best scores: {best_score} \\nbest parameters: {best_params}\")"
   ]
  },
  {
   "cell_type": "code",
   "execution_count": null,
   "id": "f590a9c3",
   "metadata": {},
   "outputs": [],
   "source": [
    "best_estimators"
   ]
  }
 ],
 "metadata": {
  "kernelspec": {
   "display_name": ".venv",
   "language": "python",
   "name": "python3"
  },
  "language_info": {
   "codemirror_mode": {
    "name": "ipython",
    "version": 3
   },
   "file_extension": ".py",
   "mimetype": "text/x-python",
   "name": "python",
   "nbconvert_exporter": "python",
   "pygments_lexer": "ipython3",
   "version": "3.13.3"
  }
 },
 "nbformat": 4,
 "nbformat_minor": 5
}
