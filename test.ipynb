{
 "cells": [
  {
   "cell_type": "markdown",
   "id": "d9b0a0aa",
   "metadata": {},
   "source": [
    "## BLUR CANNY CONTOUR "
   ]
  },
  {
   "cell_type": "code",
   "execution_count": null,
   "id": "65654e9e",
   "metadata": {},
   "outputs": [],
   "source": [
    "from PIL import Image\n",
    "import pandas as pd\n",
    "import os"
   ]
  },
  {
   "cell_type": "code",
   "execution_count": null,
   "id": "a1aefeb9",
   "metadata": {},
   "outputs": [],
   "source": [
    "anot_path = \"./data/attention.csv\"\n",
    "images_path = \"./data/datasets/\"\n",
    "\n",
    "gray_images_path = \"./data/grayimage\""
   ]
  },
  {
   "cell_type": "code",
   "execution_count": null,
   "id": "54e22543",
   "metadata": {},
   "outputs": [],
   "source": [
    "df = pd.read_csv(anot_path)\n",
    "df['score'].value_counts()"
   ]
  },
  {
   "cell_type": "code",
   "execution_count": null,
   "id": "996b8b2e",
   "metadata": {},
   "outputs": [],
   "source": [
    "save_path = \"gray_data.csv\"\n",
    "\n",
    "data = {\n",
    "    'width': [],\n",
    "    'heigh': [],\n",
    "    'file_path': [],\n",
    "    'score': []\n",
    "}\n",
    "\n",
    "if not os.path.exists(gray_images_path):\n",
    "    os.makedirs(gray_images_path)\n",
    "\n",
    "for item, score in zip(df['filename'].tolist(), df['score'].tolist()):\n",
    "    file_path = os.path.join(images_path, item)\n",
    "    gray_path = os.path.join(gray_images_path, item)\n",
    "\n",
    "    img = Image.open(file_path).convert(\"L\")\n",
    "    \n",
    "    img.save(gray_path)\n",
    "    \n",
    "    data['width'].append(img.size[0])\n",
    "    data['heigh'].append(img.size[1])\n",
    "    data['file_path'].append(gray_path)\n",
    "    data['score'].append(score)"
   ]
  },
  {
   "cell_type": "code",
   "execution_count": null,
   "id": "b9a18598",
   "metadata": {},
   "outputs": [],
   "source": [
    "import pandas as pd\n",
    "from PIL import Image\n",
    "import random\n",
    "import numpy as np\n",
    "import cv2 as cv\n",
    "import matplotlib.pyplot as plt\n",
    "\n",
    "rd_idx = random.randint(0, 99)\n",
    "# anomali data 69, 5, 36\n",
    "# rd_idx = 5\n",
    "\n",
    "file_path = \"gray_data.csv\"\n",
    "df = pd.read_csv(file_path)\n",
    "\n",
    "sample_image_name = df['file_path'].tolist()[rd_idx]\n",
    "score = df['score'].tolist()[rd_idx]\n",
    "\n",
    "print(f\"image idx: {rd_idx} | score: {score}\")\n",
    "\n",
    "img_np = np.array(Image.open(sample_image_name))\n",
    "\n",
    "blank = np.zeros(shape=img_np.shape, dtype='uint8')\n",
    "\n",
    "gaussBlur = cv.GaussianBlur(img_np, (175, 175), 0.3)\n",
    "canny = cv.Canny(gaussBlur, 100, 100)\n",
    "\n",
    "_, tresh = cv.threshold(img_np, 125, 255, cv.THRESH_BINARY)\n",
    "_, blurtresh = cv.threshold(gaussBlur, 125, 255, cv.THRESH_BINARY)\n",
    "\n",
    "contours, _ = cv.findContours(canny, cv.RETR_LIST, cv.CHAIN_APPROX_SIMPLE)\n",
    "cv.drawContours(blank, contours, -1, 255, 1)"
   ]
  },
  {
   "cell_type": "code",
   "execution_count": null,
   "id": "4942ddb9",
   "metadata": {},
   "outputs": [],
   "source": [
    "images = [img_np, gaussBlur, canny, tresh, blank]\n",
    "titles = ['Original', 'Gaussian Blur', 'Canny', 'Threshold', 'Contours Drawn']\n",
    "\n",
    "plt.figure(figsize=(15, 8))\n",
    "\n",
    "for i in range(len(images)):\n",
    "    plt.subplot(2, 3, i + 1)  # 2 baris, 3 kolom\n",
    "    if len(images[i].shape) == 2:  # grayscale\n",
    "        plt.imshow(images[i], cmap='gray')\n",
    "    else:  # RGB image\n",
    "        plt.imshow(cv.cvtColor(images[i], cv.COLOR_BGR2RGB))\n",
    "    plt.title(titles[i])\n",
    "    plt.axis('off')\n",
    "\n",
    "plt.tight_layout()\n",
    "plt.show()"
   ]
  },
  {
   "cell_type": "code",
   "execution_count": null,
   "id": "b348137a",
   "metadata": {},
   "outputs": [],
   "source": [
    "max_w = max(df['width'].tolist())\n",
    "min_w = min(df['width'].tolist())\n",
    "\n",
    "max_h = max(df['height'].tolist())\n",
    "min_h = min(df['height'].tolist())\n",
    "\n",
    "print(f\"max-width: {max_w} | min-width: {min_w} | max-height: {max_h} | min-height: {min_h}\")"
   ]
  }
 ],
 "metadata": {
  "language_info": {
   "name": "python"
  }
 },
 "nbformat": 4,
 "nbformat_minor": 5
}
