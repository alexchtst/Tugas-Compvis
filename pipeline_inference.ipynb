{
 "cells": [
  {
   "cell_type": "code",
   "execution_count": null,
   "id": "7b639298",
   "metadata": {},
   "outputs": [],
   "source": [
    "from InferencePipeline import Inference\n",
    "import os"
   ]
  },
  {
   "cell_type": "code",
   "execution_count": null,
   "id": "b504157f",
   "metadata": {},
   "outputs": [],
   "source": [
    "folder_path = './test_photos'\n",
    "model_path = './best_model_hafidh_ver.pt'\n",
    "save_folder = './saved_inference/'"
   ]
  },
  {
   "cell_type": "code",
   "execution_count": null,
   "id": "75861125",
   "metadata": {},
   "outputs": [],
   "source": [
    "inference = Inference(model_path)"
   ]
  },
  {
   "cell_type": "code",
   "execution_count": null,
   "id": "e465d1df",
   "metadata": {},
   "outputs": [],
   "source": [
    "for filename in os.listdir(folder_path):\n",
    "    image_path = os.path.join(folder_path, filename)\n",
    "    \n",
    "    print(f'Processed {filename}')\n",
    "    # inference.predict(image_path)\n",
    "    save_path = os.path.join(save_folder, f\"Inference_Result_{os.path.splitext(filename)[0]}\")\n",
    "    inference.predict_and_plot(image_path, save_path)\n",
    "    print(f'Processed and Saved plot for {filename} as {save_path}')"
   ]
  }
 ],
 "metadata": {
  "kernelspec": {
   "display_name": "Python 3",
   "language": "python",
   "name": "python3"
  },
  "language_info": {
   "codemirror_mode": {
    "name": "ipython",
    "version": 3
   },
   "file_extension": ".py",
   "mimetype": "text/x-python",
   "name": "python",
   "nbconvert_exporter": "python",
   "pygments_lexer": "ipython3",
   "version": "3.11.8"
  }
 },
 "nbformat": 4,
 "nbformat_minor": 5
}
